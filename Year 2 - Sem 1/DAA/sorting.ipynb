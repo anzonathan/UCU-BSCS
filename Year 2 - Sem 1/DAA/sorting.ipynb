{
 "cells": [
  {
   "cell_type": "markdown",
   "metadata": {},
   "source": [
    "### Merge Sort "
   ]
  },
  {
   "cell_type": "code",
   "execution_count": 8,
   "metadata": {},
   "outputs": [
    {
     "name": "stdout",
     "output_type": "stream",
     "text": [
      "Unsorted List [60, 22, 58, 36, 40, 2]\n",
      "Merge [22, 58]\n",
      "Merge [22, 58, 60]\n",
      "Merge [2, 40]\n",
      "Merge [2, 36, 40]\n",
      "Merge [2, 22, 36, 40, 58, 60]\n",
      "Sorted list [2, 22, 36, 40, 58, 60]\n"
     ]
    }
   ],
   "source": [
    "def mergeSort(arr):\n",
    "    if len(arr) <=1:\n",
    "        return arr \n",
    "\n",
    "    mid = len(arr) // 2\n",
    "\n",
    "    left = arr[:mid]\n",
    "    right = arr[mid:]\n",
    "\n",
    "    sortedLeft = mergeSort(left)\n",
    "    sortedRight = mergeSort(right)\n",
    "\n",
    "    print(\"Merge\", merge(sortedLeft, sortedRight))\n",
    "    return merge(sortedLeft, sortedRight)\n",
    "\n",
    "\n",
    "def merge(left,right):\n",
    "    result = []\n",
    "\n",
    "    l=r=0 #pointers\n",
    "\n",
    "    while l < len(left) and  r < len(right):\n",
    "        if left[l] < right[r]:\n",
    "            result.append(left[l])\n",
    "            l+=1\n",
    "        else:\n",
    "            result.append(right[r])\n",
    "            r+=1\n",
    "\n",
    "    result.extend(left[l:])\n",
    "    result.extend(right[r:])\n",
    "\n",
    "\n",
    "    return result\n",
    "\n",
    "import random \n",
    "\n",
    "list = [random.randint(1,100) for i in range(6)]\n",
    "\n",
    "print(\"Unsorted List\",list)\n",
    "print(\"Sorted list\",mergeSort(list))"
   ]
  }
 ],
 "metadata": {
  "kernelspec": {
   "display_name": "3.12.4",
   "language": "python",
   "name": "python3"
  },
  "language_info": {
   "codemirror_mode": {
    "name": "ipython",
    "version": 3
   },
   "file_extension": ".py",
   "mimetype": "text/x-python",
   "name": "python",
   "nbconvert_exporter": "python",
   "pygments_lexer": "ipython3",
   "version": "3.12.4"
  }
 },
 "nbformat": 4,
 "nbformat_minor": 2
}
