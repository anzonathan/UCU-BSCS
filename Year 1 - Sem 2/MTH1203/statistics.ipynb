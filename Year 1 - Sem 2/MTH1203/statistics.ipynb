{
 "cells": [
  {
   "cell_type": "code",
   "execution_count": 67,
   "metadata": {},
   "outputs": [],
   "source": [
    "import numpy as np\n",
    "import pandas as pd\n",
    "data = [5,8,12,15,18,22,25,28,30]"
   ]
  },
  {
   "cell_type": "code",
   "execution_count": 68,
   "metadata": {},
   "outputs": [
    {
     "name": "stdout",
     "output_type": "stream",
     "text": [
      "Mean: 18.11111111111111\n",
      "Median: 18.0\n",
      "Mode: 0     5\n",
      "1     8\n",
      "2    12\n",
      "3    15\n",
      "4    18\n",
      "5    22\n",
      "6    25\n",
      "7    28\n",
      "8    30\n",
      "dtype: int64\n",
      "Range: 25\n",
      "Variance 77.86111111111111\n",
      "Standard Deviation: 8.823894327966032\n",
      "Q1: 12.0, Q3: 25.0, IQR: 13.0\n"
     ]
    }
   ],
   "source": [
    "#mean\n",
    "mean_value = np.mean(data)\n",
    "print(f'Mean: {mean_value}')\n",
    "\n",
    "#median\n",
    "median_value = np.median(data)\n",
    "print(f'Median: {median_value}')\n",
    "\n",
    "#mode\n",
    "mode_value = pd.Series(data).mode()\n",
    "print(f'Mode: {mode_value}')\n",
    "\n",
    "#range\n",
    "range_value = np.max(data)-np.min(data)\n",
    "print(f'Range: {range_value}')\n",
    "\n",
    "#variance\n",
    "variance_value= np.var(data,ddof=1)\n",
    "print(f'Variance {variance_value}')\n",
    "\n",
    "\n",
    "#Standard Deviation \n",
    "std_dev = np.std(data, ddof = 1)\n",
    "print(f'Standard Deviation: {std_dev}')\n",
    "\n",
    "#Interquartile Range (IQR) \n",
    "q1 = np.percentile(data,25)\n",
    "q3 = np.percentile(data,75)\n",
    "iqr = q3 - q1\n",
    "print(f'Q1: {q1}, Q3: {q3}, IQR: {iqr}')\n"
   ]
  },
  {
   "cell_type": "markdown",
   "metadata": {},
   "source": [
    "## Monthly Expenses "
   ]
  },
  {
   "cell_type": "code",
   "execution_count": 69,
   "metadata": {},
   "outputs": [],
   "source": [
    "Expenses = [220,185,210,250,240,195,180,230,200,260,215,205]\n",
    "\n",
    "data = pd.Series(Expenses)"
   ]
  },
  {
   "cell_type": "code",
   "execution_count": 70,
   "metadata": {},
   "outputs": [
    {
     "data": {
      "text/plain": [
       "np.float64(215.83333333333334)"
      ]
     },
     "execution_count": 70,
     "metadata": {},
     "output_type": "execute_result"
    }
   ],
   "source": [
    "#Mean\n",
    "data.mean()\n"
   ]
  },
  {
   "cell_type": "code",
   "execution_count": 71,
   "metadata": {},
   "outputs": [
    {
     "data": {
      "text/plain": [
       "np.float64(212.5)"
      ]
     },
     "execution_count": 71,
     "metadata": {},
     "output_type": "execute_result"
    }
   ],
   "source": [
    "#Median\n",
    "data.median()"
   ]
  },
  {
   "cell_type": "code",
   "execution_count": 72,
   "metadata": {},
   "outputs": [
    {
     "name": "stdout",
     "output_type": "stream",
     "text": [
      "no mode\n"
     ]
    }
   ],
   "source": [
    "#Mode\n",
    "\n",
    "if (len(Expenses) == len(data.mode())):\n",
    "    print(\"no mode\")\n",
    "else:\n",
    "    print(data.mode()[0])"
   ]
  },
  {
   "cell_type": "code",
   "execution_count": 73,
   "metadata": {},
   "outputs": [
    {
     "data": {
      "text/plain": [
       "np.int64(80)"
      ]
     },
     "execution_count": 73,
     "metadata": {},
     "output_type": "execute_result"
    }
   ],
   "source": [
    "#Range \n",
    "data.max()  - data.min()"
   ]
  },
  {
   "cell_type": "code",
   "execution_count": 74,
   "metadata": {},
   "outputs": [
    {
     "data": {
      "text/plain": [
       "np.float64(635.6060606060605)"
      ]
     },
     "execution_count": 74,
     "metadata": {},
     "output_type": "execute_result"
    }
   ],
   "source": [
    "#Variance\n",
    "data.var()"
   ]
  },
  {
   "cell_type": "code",
   "execution_count": 75,
   "metadata": {},
   "outputs": [
    {
     "data": {
      "text/plain": [
       "np.float64(25.2112288594995)"
      ]
     },
     "execution_count": 75,
     "metadata": {},
     "output_type": "execute_result"
    }
   ],
   "source": [
    "#Standard Deviation\n",
    "data.std()"
   ]
  },
  {
   "cell_type": "code",
   "execution_count": 78,
   "metadata": {},
   "outputs": [
    {
     "data": {
      "text/plain": [
       "np.float64(33.75)"
      ]
     },
     "execution_count": 78,
     "metadata": {},
     "output_type": "execute_result"
    }
   ],
   "source": [
    "#IQR\n",
    "iqr = data.quantile(0.75)-data.quantile(0.25)\n",
    "iqr\n"
   ]
  }
 ],
 "metadata": {
  "kernelspec": {
   "display_name": "class",
   "language": "python",
   "name": "python3"
  },
  "language_info": {
   "codemirror_mode": {
    "name": "ipython",
    "version": 3
   },
   "file_extension": ".py",
   "mimetype": "text/x-python",
   "name": "python",
   "nbconvert_exporter": "python",
   "pygments_lexer": "ipython3",
   "version": "3.12.5"
  }
 },
 "nbformat": 4,
 "nbformat_minor": 2
}
